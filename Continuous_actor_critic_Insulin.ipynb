{
  "cells": [
    {
      "cell_type": "code",
      "execution_count": null,
      "metadata": {
        "id": "bbOucYDfh6Cb"
      },
      "outputs": [],
      "source": [
        "!pip install simglucose"
      ]
    },
    {
      "cell_type": "code",
      "execution_count": null,
      "metadata": {
        "id": "eTWSOhY2vlW-"
      },
      "outputs": [],
      "source": [
        "!pip install gym==0.17.3"
      ]
    },
    {
      "cell_type": "code",
      "execution_count": null,
      "metadata": {
        "id": "Ovwmnwdkk3SK"
      },
      "outputs": [],
      "source": [
        "!pip uninstall tensorflow\n",
        "!pip uninstall keras\n",
        "!pip install tensorflow\n",
        "!pip install keras"
      ]
    },
    {
      "cell_type": "code",
      "execution_count": null,
      "metadata": {
        "id": "vl2j2kX_Ige-"
      },
      "outputs": [],
      "source": [
        "from simglucose.simulation.user_interface import simulate\n",
        "from simglucose.controller.base import Controller, Action\n",
        "from simglucose.patient.t1dpatient import T1DPatient\n",
        "from simglucose.simulation.sim_engine import SimObj, sim, batch_sim\n",
        "from simglucose.sensor.cgm import CGMSensor\n",
        "from simglucose.actuator.pump import InsulinPump\n",
        "from simglucose.simulation.env import T1DSimEnv\n",
        "from simglucose.simulation.scenario_gen import RandomScenario\n",
        "\n",
        "import gym\n",
        "\n",
        "from datetime import timedelta, datetime\n",
        "\n",
        "import matplotlib.pyplot as plt\n",
        "from IPython.display import display, clear_output\n",
        "\n",
        "#Actor Critic Network\n",
        "import tensorflow as tf\n",
        "import tensorflow.keras.layers as layers\n",
        "from tensorflow.keras.optimizers import Adam\n",
        "import tensorflow_probability as tfp\n",
        "import numpy\n",
        "\n"
      ]
    },
    {
      "cell_type": "code",
      "execution_count": null,
      "metadata": {
        "id": "Qyq85iJ5kcID"
      },
      "outputs": [],
      "source": [
        "import os\n",
        "\n",
        "os.environ[\"KERAS_BACKEND\"] = \"tensorflow\"\n",
        "import keras"
      ]
    },
    {
      "cell_type": "code",
      "execution_count": null,
      "metadata": {
        "id": "L9cfNA6_luSZ"
      },
      "outputs": [],
      "source": [
        "# If using TensorFlow's implementation of Keras\n",
        "from keras import backend as ops"
      ]
    },
    {
      "cell_type": "code",
      "execution_count": null,
      "metadata": {
        "id": "MIY6Tfm3qmAL"
      },
      "outputs": [],
      "source": [
        "class ActorCriticNetwork(tf.keras.Model):\n",
        "    def __init__(self, obs_size, act_size):\n",
        "        super(ActorCriticNetwork, self).__init__()\n",
        "\n",
        "        self.base = tf.keras.Sequential([\n",
        "            tf.keras.layers.Dense(128, activation='relu', input_shape=(2,),trainable = True)\n",
        "        ])\n",
        "\n",
        "        self.mu = tf.keras.Sequential([\n",
        "            tf.keras.layers.Dense(1,trainable = True),\n",
        "            tf.keras.layers.Activation('relu')\n",
        "        ])\n",
        "\n",
        "        self.var = tf.keras.Sequential([\n",
        "            tf.keras.layers.Dense(1,trainable = True),\n",
        "            tf.keras.layers.Activation('softplus')\n",
        "        ])\n",
        "\n",
        "        self.value = tf.keras.layers.Dense(1)\n",
        "\n",
        "    def call(self, inputs):\n",
        "        state, time = inputs\n",
        "        time = tf.constant(float(time), dtype=tf.float32)\n",
        "        state = tf.constant(state, dtype=tf.float32)\n",
        "        state = tf.reshape(state, (-1, 1))  # Ensure state has shape (batch_size, 1)\n",
        "        time = tf.reshape(time, (-1, 1))\n",
        "        input = tf.concat([state, time], axis=1)\n",
        "        #print(input)\n",
        "        base_out = self.base(input)\n",
        "        return self.mu(base_out), self.var(base_out), self.value(base_out)\n"
      ]
    },
    {
      "cell_type": "code",
      "execution_count": null,
      "metadata": {
        "id": "zlsnn9qewl9b"
      },
      "outputs": [],
      "source": [
        "import numpy as np\n",
        "import math"
      ]
    },
    {
      "cell_type": "code",
      "execution_count": null,
      "metadata": {
        "id": "deykXciurCkU"
      },
      "outputs": [],
      "source": [
        "\n",
        "\n",
        "#Controller for RL\n",
        "class RlController(Controller):\n",
        "    def __init__(self, init_state):\n",
        "        self.init_state = init_state\n",
        "        self.state = init_state\n",
        "        #actor critic network\n",
        "        self.gamma = 0.999\n",
        "        self.n_actions = 1 #only through basal\n",
        "        self.action_space = [0, 30]\n",
        "        self.actor_critic = ActorCriticNetwork(2,self.n_actions)\n",
        "        self.optimizer = keras.optimizers.Adam(learning_rate=0.01,clipvalue=1.0)\n",
        "        #buffer\n",
        "        self.action_probs_history = []\n",
        "        self.action_var_history = []\n",
        "        self.critic_value_history = []\n",
        "        self.rewards_history = []\n",
        "        self.action_history = []\n",
        "        self.eps = np.finfo(np.float32).eps.item()\n",
        "        #loss\n",
        "        self.huber_loss = tf.keras.losses.Huber()\n",
        "        self.cross_entropy = tf.keras.losses.BinaryCrossentropy(from_logits=True)\n",
        "        self.entropy_coefficient = 1e-4\n",
        "        self.eps = np.finfo(np.float32).eps.item()\n",
        "\n",
        "    def choose_action(self, observation):\n",
        "        mu_v, var_v, _ = self.actor_critic(observation)\n",
        "        mu = mu_v.numpy()[0][0]\n",
        "        sigma = tf.sqrt(var_v).numpy()[0][0]\n",
        "\n",
        "        # Using TensorFlow's random.normal to generate random values\n",
        "        action = tf.random.normal(shape=mu.shape, mean=mu, stddev=sigma)\n",
        "        action = np.clip(action, 0, 15)\n",
        "        action = round(action, 1)\n",
        "        #print(action, mu, sigma)\n",
        "        self.action = action\n",
        "        return action\n",
        "\n",
        "    def policy(self, observation, reward, done, **info):\n",
        "        '''\n",
        "        Every controller must have this implementation!\n",
        "        ----\n",
        "        Inputs:\n",
        "        observation - a namedtuple defined in simglucose.simulation.env. For\n",
        "                      now, it only has one entry: blood glucose level measured\n",
        "                      by CGM sensor.\n",
        "        reward      - current reward returned by environment\n",
        "        done        - True, game over. False, game continues\n",
        "        info        - additional information as key word arguments,\n",
        "                      simglucose.simulation.env.T1DSimEnv returns patient_name\n",
        "                      and sample_time\n",
        "        ----\n",
        "        Output:\n",
        "        action - a namedtuple defined at the beginning of this file. The\n",
        "                 controller action contains two entries: basal, bolus\n",
        "        '''\n",
        "        self.state = observation\n",
        "        action = self.choose_action(observation)\n",
        "        return Action(basal = action, bolus = 0.0)\n",
        "\n",
        "    def learn(self, t, reward, state_, done):\n",
        "        with tf.GradientTape() as tape:\n",
        "          #reward+= 0.1* t\n",
        "          #reward = tf.convert_to_tensor([reward], dtype=tf.float32)\n",
        "          mu, var, value = self.actor_critic(state_)\n",
        "          #print(\"MU:\",mu)\n",
        "          self.action_probs_history.append(ops.log(mu.numpy()[0][0]))\n",
        "          self.action_var_history.append(ops.log(var.numpy()[0][0]))\n",
        "          self.critic_value_history.append(value)\n",
        "          self.rewards_history.append(reward)\n",
        "          if done:\n",
        "            #reward and advantage\n",
        "            returns = []\n",
        "            discounted_sum = 0\n",
        "            for r in self.rewards_history[::-1]:\n",
        "              discounted_sum = r + self.gamma * discounted_sum\n",
        "              returns.insert(0, discounted_sum)\n",
        "            # Normalize\n",
        "            returns = np.array(returns)\n",
        "            returns = (returns - np.mean(returns)) / (np.std(returns) + self.eps)\n",
        "            returns = returns.tolist()\n",
        "            history = zip(self.action_probs_history, self.action_var_history, self.critic_value_history, returns)\n",
        "            actor_mu_losses = []\n",
        "            actor_var_losses = []\n",
        "            critic_losses = []\n",
        "            for log_mu, log_var, value, ret in history:\n",
        "              # Actor loss\n",
        "              diff = ret - value\n",
        "              actor_mu_losses.append(-log_mu * diff)\n",
        "\n",
        "              # Actor variance loss (Entropy term)\n",
        "              #actor_var_losses.append(-self.entropy_coefficient * (tf.math.log(2 * math.pi * log_var) + 1) / 2)\n",
        "              log_var = tf.reshape(log_var, (1,))\n",
        "              actor_var_losses.append(self.cross_entropy(tf.zeros_like(log_var),log_var))\n",
        "              #print(\"Var \", log_var)\n",
        "\n",
        "              # Critic loss (using Huber loss)\n",
        "              critic_losses.append(self.huber_loss(value, ret))\n",
        "\n",
        "            loss_value = sum(actor_mu_losses) + sum(actor_var_losses) + sum(critic_losses)\n",
        "            grads = tape.gradient(loss_value, self.actor_critic.trainable_variables)\n",
        "            #print(grads)\n",
        "            self.optimizer.apply_gradients(zip(grads, self.actor_critic.trainable_weights))\n",
        "\n",
        "          self.action_probs_history.clear()\n",
        "          self.action_var_history.clear()\n",
        "          self.critic_value_history.clear()\n",
        "          self.rewards_history.clear()\n",
        "\n",
        "\n",
        "    def reset(self):\n",
        "        '''\n",
        "        Reset the controller state to inital state, must be implemented\n",
        "        '''\n",
        "        self.state = self.init_state\n",
        "\n",
        "\n",
        "ctrller = RlController(0)\n"
      ]
    },
    {
      "cell_type": "code",
      "execution_count": null,
      "metadata": {
        "id": "GqC_r5ifeFcq"
      },
      "outputs": [],
      "source": [
        "for var in ctrller.actor_critic.trainable_variables:\n",
        "    print(var.name, var.trainable, var.numpy())"
      ]
    },
    {
      "cell_type": "code",
      "execution_count": null,
      "metadata": {
        "id": "IrEOkEIIrIl0"
      },
      "outputs": [],
      "source": [
        "#custom reward function\n",
        "\n",
        "def custom_reward(BG_last_hour):\n",
        "    glucose_future = BG_last_hour[-1]\n",
        "    #print(glucose_future)\n",
        "    if glucose_future > 70:\n",
        "        if glucose_future < 180:\n",
        "            return 1\n",
        "        else:\n",
        "            if glucose_future < 500:\n",
        "                return -1\n",
        "            else:\n",
        "                return -100\n",
        "    else:\n",
        "        if glucose_future > 20:\n",
        "            return -1\n",
        "        else:\n",
        "            return -100\n"
      ]
    },
    {
      "cell_type": "code",
      "execution_count": null,
      "metadata": {
        "id": "jQwgJccIkGoU"
      },
      "outputs": [],
      "source": [
        "del gym.envs.registry.env_specs['InsulinEnv-v1']"
      ]
    },
    {
      "cell_type": "code",
      "execution_count": null,
      "metadata": {
        "id": "hqHfmCJn4Uh-"
      },
      "outputs": [],
      "source": [
        "import warnings\n",
        "\n",
        "# Désactiver le warning spécifique\n",
        "warnings.simplefilter(\"ignore\")\n"
      ]
    },
    {
      "cell_type": "code",
      "execution_count": null,
      "metadata": {
        "id": "Pn8vD-kTqRS0"
      },
      "outputs": [],
      "source": [
        "RANDOM_SEED = 10\n",
        "NUM_SCENARIOS = 10\n",
        "\n",
        "start_time = datetime(2018, 1, 1, 0, 0, 0)\n",
        "random_scenarios = [RandomScenario(start_time=start_time, seed=RANDOM_SEED + i) for i in range(NUM_SCENARIOS)]\n",
        "patient_names = ['adolescent#001', 'adolescent#002', 'adolescent#003','adult#001','adult#002','adult#003']\n",
        "\n",
        "patientID = 12\n",
        "patient = T1DPatient.withID(12)\n",
        "\n",
        "sim_sensor = CGMSensor.withName('Dexcom')\n",
        "\n",
        "sim_pump = InsulinPump.withName('Insulet')\n",
        "\n",
        "num_episodes = 100\n",
        "max_steps_per_episode = 480\n",
        "if 'InsulinEnv-v1' not in gym.envs.registry.env_specs:\n",
        "  gym.register(id='InsulinEnv-v1', entry_point='simglucose.envs:T1DSimEnv', kwargs={'patient_name':patient_names,'reward_fun': custom_reward,'custom_scenario': random_scenarios})\n",
        "env = gym.make('InsulinEnv-v1')\n",
        "\n",
        "\n"
      ]
    },
    {
      "cell_type": "code",
      "execution_count": null,
      "metadata": {
        "id": "iPMQsoox5Dzg"
      },
      "outputs": [],
      "source": [
        "obs = env.reset()\n",
        "done = False\n",
        "for i_episode in range(num_episodes):\n",
        "    observation = env.reset()\n",
        "    observation = (observation.CGM,env.env.time.hour)\n",
        "    for t in range(max_steps_per_episode):\n",
        "        action = ctrller.choose_action(observation)\n",
        "        print(action)\n",
        "        observation, reward, done, info = env.step(action)\n",
        "        #print(action)\n",
        "        observation = (observation.CGM,env.env.time.hour)\n",
        "        #print(action)\n",
        "        #print(reward)\n",
        "        #print(env.env.time.minute)\n",
        "        ctrller.learn(t, reward, observation, done)\n",
        "        if done:\n",
        "            print(\"Episode finished after {} timesteps\".format(t+1))\n",
        "            break"
      ]
    },
    {
      "cell_type": "code",
      "source": [
        "observation = env.reset()\n",
        "action = ctrller.choose_action((observation.CGM,env.env.time.hour))\n",
        "print(action)"
      ],
      "metadata": {
        "colab": {
          "base_uri": "https://localhost:8080/"
        },
        "id": "17HFLtVFxZHN",
        "outputId": "e3a9ae88-97b9-4114-d7f4-2b2d11a3696f"
      },
      "execution_count": null,
      "outputs": [
        {
          "output_type": "stream",
          "name": "stdout",
          "text": [
            "5.8\n"
          ]
        }
      ]
    },
    {
      "cell_type": "code",
      "execution_count": null,
      "metadata": {
        "colab": {
          "base_uri": "https://localhost:8080/",
          "height": 468
        },
        "id": "2d9MOtoqekbL",
        "outputId": "07120459-4af8-4917-f329-2b65fe071b82"
      },
      "outputs": [
        {
          "output_type": "display_data",
          "data": {
            "text/plain": [
              "<Figure size 640x480 with 4 Axes>"
            ],
            "image/png": "[encoded data removed]"
          },
          "metadata": {}
        }
      ],
      "source": [
        "observation = env.reset()\n",
        "for t in range(200):\n",
        "        action = ctrller.choose_action((observation.CGM,env.env.time.hour))\n",
        "        old_obs = observation\n",
        "        env.render(mode='human')\n",
        "        observation, reward, done, info = env.step(action)\n",
        "        #print(action)\n",
        "        #print(reward)\n",
        "        if done:\n",
        "           break"
      ]
    }
  ],
  "metadata": {
    "colab": {
      "provenance": []
    },
    "kernelspec": {
      "display_name": "Python 3",
      "name": "python3"
    },
    "language_info": {
      "name": "python"
    }
  },
  "nbformat": 4,
  "nbformat_minor": 0
}